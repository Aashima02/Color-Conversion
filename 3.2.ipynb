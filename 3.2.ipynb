{
 "cells": [
  {
   "cell_type": "code",
   "execution_count": 1,
   "id": "bc4b86a7",
   "metadata": {},
   "outputs": [],
   "source": [
    "import cv2\n",
    "sun_color_image = cv2.imread('image.jpg')\n",
    "cv2.imshow('Original image', sun_color_image)\n",
    "hsv_image = cv2.cvtColor(sun_color_image, cv2.COLOR_HSV2RGB)\n",
    "cv2.imshow('HSV2RGB' ,hsv_image )\n",
    "gray_image1 = cv2.cvtColor (sun_color_image, cv2.COLOR_HSV2BGR)\n",
    "cv2.imshow('HSV2BGR', gray_image1)\n",
    "cv2.waitKey(0)\n",
    "cv2. destroyAllWindows()"
   ]
  }
 ],
 "metadata": {
  "kernelspec": {
   "display_name": "Python 3 (ipykernel)",
   "language": "python",
   "name": "python3"
  },
  "language_info": {
   "codemirror_mode": {
    "name": "ipython",
    "version": 3
   },
   "file_extension": ".py",
   "mimetype": "text/x-python",
   "name": "python",
   "nbconvert_exporter": "python",
   "pygments_lexer": "ipython3",
   "version": "3.8.12"
  }
 },
 "nbformat": 4,
 "nbformat_minor": 5
}
