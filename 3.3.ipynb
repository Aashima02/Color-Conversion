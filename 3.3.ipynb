{
 "cells": [
  {
   "cell_type": "code",
   "execution_count": 2,
   "id": "662d7c46",
   "metadata": {},
   "outputs": [],
   "source": [
    "import cv2\n",
    "sun_color_image = cv2.imread('image.jpg')\n",
    "cv2.imshow('Original image', sun_color_image)\n",
    "gray_image1 = cv2.cvtColor (sun_color_image, cv2.COLOR_RGB2YCrCb)\n",
    "cv2.imshow('RGB2YCrCb', gray_image1)\n",
    "gray_image1 = cv2.cvtColor (sun_color_image, cv2.COLOR_BGR2YCrCb)\n",
    "cv2.imshow('BGR2YCrCb', gray_image1)\n",
    "cv2.waitKey(0)\n",
    "cv2. destroyAllWindows()"
   ]
  },
  {
   "cell_type": "code",
   "execution_count": null,
   "id": "ca8111bf",
   "metadata": {},
   "outputs": [],
   "source": []
  }
 ],
 "metadata": {
  "kernelspec": {
   "display_name": "Python 3 (ipykernel)",
   "language": "python",
   "name": "python3"
  },
  "language_info": {
   "codemirror_mode": {
    "name": "ipython",
    "version": 3
   },
   "file_extension": ".py",
   "mimetype": "text/x-python",
   "name": "python",
   "nbconvert_exporter": "python",
   "pygments_lexer": "ipython3",
   "version": "3.8.12"
  }
 },
 "nbformat": 4,
 "nbformat_minor": 5
}
